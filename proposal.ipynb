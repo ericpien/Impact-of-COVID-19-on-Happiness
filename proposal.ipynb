{
 "cells": [
  {
   "cell_type": "markdown",
   "metadata": {},
   "source": [
    "# HAPPINESS\n",
    "___"
   ]
  },
  {
   "cell_type": "markdown",
   "metadata": {},
   "source": [
    "STAT 201 - Group 12: Anne Nguyen, Eric Pien, Oliver Gullery, Ruby Yang\n",
    "\n",
    "\n"
   ]
  },
  {
   "cell_type": "markdown",
   "metadata": {},
   "source": [
    "## Introduction\n",
    "___"
   ]
  },
  {
   "cell_type": "markdown",
   "metadata": {},
   "source": [
    "Happiness, a subjective assessment of an individual’s emotional state/life satisfaction, can be affected by factors such as health and social network. As such, happiness can often act as an indicator for societal well-being (1). This report investigates how the COVID-19 pandemic has affected the happiness of the world population. Ultimately, we hope to answer the question: **Did Covid-19 negatively impact levels of happiness**?\n",
    "\n",
    "We use data from the  *World Happiness Report* (2) where happiness scores are assessed using the Cantril ladder – a  subjective measure for wellbeing. Scores range from 0 to 10, representing the worst and best possible life respectively. We will compare the `mean` and `standard deviation` in happiness score for years before and after the COVID-19 pandemic to examine overall changes in world happiness.  "
   ]
  },
  {
   "cell_type": "markdown",
   "metadata": {},
   "source": [
    "## Preliminary Result ##\n",
    "___"
   ]
  },
  {
   "cell_type": "markdown",
   "metadata": {},
   "source": [
    "### Data Loading, Cleaning, Splitting ###"
   ]
  },
  {
   "cell_type": "code",
   "execution_count": null,
   "metadata": {
    "vscode": {
     "languageId": "r"
    }
   },
   "outputs": [],
   "source": [
    "# Environment Setup\n",
    "library(tidyverse)\n",
    "library(tidymodels)\n",
    "library(GGally)\n",
    "library(gridExtra)\n",
    "library(janitor)\n",
    "library(cowplot)\n",
    "\n",
    "options(repr.matrix.max.rows = 6) #limits output of dataframes to 6 rows"
   ]
  },
  {
   "cell_type": "code",
   "execution_count": null,
   "metadata": {
    "vscode": {
     "languageId": "r"
    }
   },
   "outputs": [],
   "source": [
    "# Read data from the web into R\n",
    "data <- read_csv('https://raw.githubusercontent.com/ericpien/stat-201-project/main/data/DataForTable2.1.csv',skip=0)\n",
    "\n",
    "# Clean/Wrangle Data\n",
    "happiness_data <- data |>\n",
    "    clean_names() |>\n",
    "    as_tibble() |>\n",
    "    drop_na()\n",
    "\n",
    "# Create n_tile clusters by the year\n",
    "n_tile <- 4\n",
    "\n",
    "happiness_data <- happiness_data |>\n",
    "    group_by(year) |>\n",
    "    mutate(life_ladder_ntile = ntile(-life_ladder,n_tile),\n",
    "            log_gdp_per_capita_ntile = ntile(-log_gdp_per_capita,n_tile),\n",
    "            social_support_ntile = ntile(-social_support,n_tile),\n",
    "            healthy_life_expectancy_at_birth_ntile = ntile(-healthy_life_expectancy_at_birth,n_tile),\n",
    "            freedom_to_make_life_choices_ntile = ntile(-freedom_to_make_life_choices,n_tile),\n",
    "            generosity_ntile = ntile(-generosity,n_tile),\n",
    "            perceptions_of_corruption_ntile = ntile(-perceptions_of_corruption,n_tile),\n",
    "            positive_affect_ntile = ntile(-positive_affect,n_tile),\n",
    "            negative_affect_ntile = ntile(-negative_affect,n_tile),\n",
    "            confidence_in_national_government_ntile = ntile(-confidence_in_national_government,n_tile))\n",
    "\n",
    "# Create wide dataframe of mean happiness\n",
    "happiness_data_wide_life_ladder <- happiness_data |> \n",
    "    group_by(country_name,year) |>\n",
    "    summarize(life_ladder = life_ladder) |>\n",
    "    pivot_wider(names_from = year,\n",
    "                values_from = life_ladder)"
   ]
  },
  {
   "cell_type": "markdown",
   "metadata": {},
   "source": [
    "### Preliminary Data Exploration ###"
   ]
  },
  {
   "cell_type": "code",
   "execution_count": null,
   "metadata": {
    "vscode": {
     "languageId": "r"
    }
   },
   "outputs": [],
   "source": [
    "# Number of countries and available data\n",
    "options(repr.plot.width = 15, repr.plot.height = 15) \n",
    "\n",
    "happiness_data_obs <- happiness_data |> \n",
    "    group_by(country_name) |> \n",
    "    summarize(obs_count=n(),\n",
    "                mean_cluster = as.integer(mean(life_ladder_ntile))) |>\n",
    "    arrange(-obs_count) |>\n",
    "    ggplot(aes(x=obs_count,y=fct_inorder(country_name),fill = factor(mean_cluster))) +\n",
    "    geom_col() +\n",
    "    scale_fill_brewer(palette=\"Set3\") +\n",
    "    labs(x=\"# of Observations\", y=\"Country\", fill=\"Mean Life Ladder n tile\", title=\"Number of Countries and Available Observations\", caption = \"Figure 1\")\n",
    "\n",
    "#happiness_data_obs # Chart displayed as a group below\n",
    "\n",
    "# YoY happiness metric heatmap\n",
    "happiness_heatmap <- happiness_data_wide_life_ladder |>\n",
    "    pivot_longer(cols=-country_name,names_to=\"year\",values_to =\"life_ladder\") |>\n",
    "    ggplot(aes(x=year, y=country_name)) +\n",
    "    geom_tile(aes(fill=life_ladder), color=\"black\") +\n",
    "    scale_fill_gradient(low=\"white\", high=\"#1818ff\") +\n",
    "    labs(x=\"Year\", y=\"Country\", fill=\"Happiness\", title=\"Year Over Year Happiness by Country\", caption = \"Figure 2\")\n",
    "\n",
    "#happiness_heatmap # Chart displayed as a group below\n",
    "plot_grid(happiness_data_obs,happiness_heatmap,ncol = 2)"
   ]
  },
  {
   "cell_type": "markdown",
   "metadata": {},
   "source": [
    "### 2019, 2020, 2021 Data ###"
   ]
  },
  {
   "cell_type": "code",
   "execution_count": null,
   "metadata": {
    "vscode": {
     "languageId": "r"
    }
   },
   "outputs": [],
   "source": [
    "# Create a list of countries that have data for 2019 and 2021\n",
    "country_name_2019_2021  <- happiness_data |>\n",
    "    group_by(country_name) |>\n",
    "    filter(year %in% c(2019,2021)) |>\n",
    "    drop_na() |>\n",
    "    summarise(n=n()) |>\n",
    "    filter(n>1) |>\n",
    "    pull(country_name)\n",
    "\n",
    "# Select the countries and filter for 2019 and 2021 data\n",
    "happiness_data_2019_2021 <- happiness_data |>\n",
    "    filter(country_name %in% country_name_2019_2021,\n",
    "            year %in% c(2019,2021))\n",
    "\n",
    "# Summarize the estimates of the parameters (mean and sd) across the groups (2019 and 2021)\n",
    "happiness_data_2019_2021 |> group_by(year) |> summarise(mean_happiness = mean(life_ladder), sd = sd(life_ladder))"
   ]
  },
  {
   "cell_type": "code",
   "execution_count": null,
   "metadata": {
    "vscode": {
     "languageId": "r"
    }
   },
   "outputs": [],
   "source": [
    "# Change from 2019, 2020, and 2021 happiness\n",
    "options(repr.plot.width = 10, repr.plot.height = 10)\n",
    "\n",
    "happiness_trail <- happiness_data_wide_life_ladder |> select(country_name,`2019`,`2020`,`2021`) |> drop_na() |> pivot_longer(cols=-country_name,names_to=\"year\",values_to =\"life_ladder\") |> mutate(year = as.integer(year)) |>\n",
    "    ggplot(aes(x=year, y=life_ladder, group=country_name, color=country_name)) +\n",
    "    geom_line() +\n",
    "    geom_text(aes(label = country_name)) +\n",
    "    theme(legend.position=\"none\") +\n",
    "    labs(x=\"Year\",y=\"Life Ladder\",title=\"Happiness from 2019 to 2021\", caption = \"Figure 3\") + \n",
    "    scale_x_continuous(breaks=c(2019,2020,2021), limits = c(2019,2021))\n",
    "    \n",
    "happiness_trail"
   ]
  },
  {
   "cell_type": "code",
   "execution_count": null,
   "metadata": {
    "vscode": {
     "languageId": "r"
    }
   },
   "outputs": [],
   "source": [
    "# Change Mean from 2021 to 2019\n",
    "change_2019_2021 <- happiness_data_wide_life_ladder |>\n",
    "    select(country_name,`2019`,`2021`) |>\n",
    "    drop_na() |>\n",
    "    group_by(country_name) |>\n",
    "    mutate(change = `2021`-`2019`)\n",
    "\n",
    "# Mean Change\n",
    "mean_point_estimate <- mean(change_2019_2021$change)\n",
    "\n",
    "# Print the mean change\n",
    "sprintf(\"Red line marks the point Estimate (mean change in happiness): %0.16f\", mean_point_estimate)\n",
    "\n",
    "# Plot the Distribution\n",
    "options(repr.plot.width = 10, repr.plot.height = 8) \n",
    "change_histogram <- change_2019_2021 |>\n",
    "    ggplot(aes(x=change)) +\n",
    "    geom_histogram(fill = \"grey69\", binwidth = 0.1, color=\"black\") +\n",
    "    geom_vline(xintercept=mean(change_2019_2021$change),color=\"red\") +\n",
    "    labs(x=\"Change in Happiness\",y=\"Count\",title=\"Distribution of Change in Happiness\", caption = \"Figure 4A\")\n",
    "\n",
    "# Plot the Box Plot\n",
    "change_boxplot <- change_2019_2021 |>\n",
    "        ggplot(aes(x=change)) +\n",
    "        geom_boxplot(fill = \"grey69\", outlier.colour=\"black\", outlier.shape=16,\n",
    "                 outlier.size=2, notch=FALSE) +\n",
    "        labs(x=\"Change in Happiness\", caption = \"Figure 4B\") +\n",
    "        theme(\n",
    "            axis.text.y=element_blank(),\n",
    "            axis.ticks.y=element_blank(),\n",
    "            axis.text.x=element_blank(),\n",
    "            axis.ticks.x=element_blank())\n",
    "\n",
    "# Combine the boxplot and histogram together using cowplot\n",
    "plot_grid(change_histogram, change_boxplot, ncol = 1, rel_heights = c(2, 0.5), align = 'v')"
   ]
  },
  {
   "cell_type": "markdown",
   "metadata": {
    "tags": []
   },
   "source": [
    "## Methods\n",
    "___"
   ]
  },
  {
   "cell_type": "markdown",
   "metadata": {},
   "source": [
    "**The Good**\\\n",
    "Our analysis shows that the majority of countries did not observe a change in happiness greater than 0.5 to -0.5. This report is trustworthy since the data is up-to-date and collected by dedicated and experienced researchers (2).\n",
    "\n",
    "**The Bad**\\\n",
    "The aforementioned mean change is insufficient because it lacks measures of uncertainty due to variance. Furthermore, by aggregating every country, we lose insights that may be revealed in different groupings like geographical regions. Lastly, we consider 2019 to be \"before COVID-19\" and 2021 to be \"after COVID-19\", but this may not be applicable to all countries' situations.\n",
    "\n",
    "**The Solution**\\\n",
    "To include measures of uncertainty with our point estimate (mean change in happiness), we will perform hypothesis testing for establishing statistical significance of the results and calculate a confidence interval to quantify the errors when estimating the mean change in happiness between 2019 and 2021.\n",
    "\n",
    "We will perform a paired T-test because the two datasets sample the same countries over an interval of time.\n",
    "\n",
    "Our hypotheses are:  \n",
    "$$\n",
    "\\begin{align*}\n",
    "H_0&: \\mu_{\\text{2021}} - \\mu_{\\text{2019}} = 0 \\\\ \n",
    "H_1&: \\mu_{\\text{2021}} - \\mu_{\\text{2019}} < 0 \\\\ \n",
    "\\end{align*}\n",
    "$$\n",
    "* **Null Hypothesis**: There is no change in mean Happiness before and after COVID-19 throughout most countries.\n",
    "* **Alternative Hypothesis**: The mean happiness decreased after COVID-19 throughout most countries.\n",
    "\n",
    "The significance level will be 0.05 with a corresponding confidence level of 95% (1- $\\alpha$) to reduce the risk of type II errors. We will use the bootstrapping method with set.seed() for reproducibility as this does not require any assumptions about the population distribution (compared to using asymptotic approaches)."
   ]
  },
  {
   "cell_type": "markdown",
   "metadata": {},
   "source": [
    "**Expected Findings**\\\n",
    "We expect that COVID-19 decreased happiness levels due to the effects of lockdown; studies done on the effects of vitamin D deficiency from lack of sunlight (3) and staying indoors (4) found negative impacts such as depression.\n",
    "\n",
    "**Impacts**\\\n",
    "Understanding the quantitative impact on happiness could inform future quarantine response procedures. Exploring how certain policies or events affect happiness levels can guide organisations to make better decisions for everyone's happiness.\n",
    "\n",
    "**Future Questions**\n",
    "* How do different pandemic responses and policies affect happiness levels?\n",
    "* How does happiness relate to other indicators of success and should it be given greater consideration in policy making? "
   ]
  },
  {
   "cell_type": "markdown",
   "metadata": {},
   "source": [
    "## References\n",
    "___"
   ]
  },
  {
   "cell_type": "markdown",
   "metadata": {},
   "source": [
    "1. Krys, K., Park, J., Kocimska-Zych, A. et al. (2021). Personal Life Satisfaction as a Measure of Societal Happiness is an Individualistic Presumption: Evidence from Fifty Countries. J Happiness Stud 22, 2197–2214. https://doi.org/10.1007/s10902-020-00311-y\n",
    "\n",
    "2. Helliwell, J. F., Layard, R., Sachs, J. D., Neve, J.-E. D., Aknin, L. B., & Wang, S. (2021, March 20). World happiness report 2021. https://worldhappiness.report/ed/2021/\n",
    "\n",
    "3. Anjum, I., Jaffery, S. S., Fayyaz, M., Samoo, Z., Anjum, S., Anjum, I., Jaffery, S. S., Fayyaz, M., Samoo, Z., & Anjum, S. (2018). The role of vitamin d in brain health: A mini literature review. Cureus, 10(7). https://doi.org/10.7759/cureus.2960\n",
    "\n",
    "4. Thakur, K., Kumar, N., & Sharma, N. (2020). Effect of the pandemic and lockdown on mental health of children. The Indian Journal of Pediatrics, 87(7), 552–552. https://doi.org/10.1007/s12098-020-03308-w\n",
    "\n",
    "5. Musikanski, L. (2014). Happiness in public policy. Journal of Sustainable Social Change, 6(1). https://scholarworks.waldenu.edu/jsc/vol6/iss1/5\n"
   ]
  },
  {
   "cell_type": "code",
   "execution_count": null,
   "metadata": {},
   "outputs": [],
   "source": []
  }
 ],
 "metadata": {
  "kernelspec": {
   "display_name": "R",
   "language": "R",
   "name": "ir"
  },
  "language_info": {
   "codemirror_mode": "r",
   "file_extension": ".r",
   "mimetype": "text/x-r-source",
   "name": "R",
   "pygments_lexer": "r",
   "version": "4.2.2"
  },
  "vscode": {
   "interpreter": {
    "hash": "8133a5e7c9d8e93edbb45f51b1c79401dfa1760be7f0c80fdbed489d84f53a6b"
   }
  }
 },
 "nbformat": 4,
 "nbformat_minor": 4
}
